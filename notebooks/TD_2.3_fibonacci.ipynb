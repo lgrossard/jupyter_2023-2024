{
 "cells": [
  {
   "cell_type": "markdown",
   "id": "alternative-camel",
   "metadata": {},
   "source": [
    "# Ex. 2.3 : une histoire de lapins transalpins\n",
    "\n",
    "En 1202, un mathématicien italien connu sous le nom de Fibonacci a posé la question suivante : supposons qu'un couple (mâle--femelle) de lapins est né au début de l'année. Nous considérons que les conditions suivantes sont vérifiées :\n",
    "\n",
    "- la maturité sexuelle du lapin est atteinte après un mois, qui est aussi la durée de gestation ;\n",
    "- chaque portée comporte toujours un mâle et une femelle ;\n",
    "- les lapins ne meurent pas.\n",
    "\n",
    "Nous souhaitons connaître le nombre de couples de lapins au bout d'un an. Pour répondre à cette question, nous avons représenté ci-dessous le nombre de couples pour les cinq premiers mois de l'année.\n",
    "\n",
    "<img src=\"images/lapins.png\">\n"
   ]
  },
  {
   "cell_type": "markdown",
   "id": "rational-russell",
   "metadata": {},
   "source": [
    "Écrivez le code Python qui calcule le nombre de couples de lapin au bout du n-ième mois, n étant choisi par l'utilisateur (n>2). Ne cherchez pas à économiser les variables."
   ]
  },
  {
   "cell_type": "code",
   "execution_count": 5,
   "id": "handmade-chapter",
   "metadata": {},
   "outputs": [
    {
     "name": "stdout",
     "output_type": "stream",
     "text": [
      "Saisir le mois  pour calculer le nombre de couple de lapin (>2)2\n",
      " Le nombre de lapin au mois 2 est 1\n"
     ]
    },
    {
     "ename": "SystemExit",
     "evalue": "",
     "output_type": "error",
     "traceback": [
      "An exception has occurred, use %tb to see the full traceback.\n",
      "\u001b[0;31mSystemExit\u001b[0m\n"
     ]
    }
   ],
   "source": [
    "# Variables\n",
    "# i : entier, compteur contenant le numero du mois\n",
    "# n : entier, mois pour lequel on shouhaite connaître le nombre de couples de lapins\n",
    "# fn : entier, nombre de couple au mois n\n",
    "# fn_1 : entier, nombre de couple au mois n-1\n",
    "# fn_2 : entier, nombre de couple au mois n-2\n",
    "\n",
    "from sys import exit\n",
    "\n",
    "# Initialisation des variables\n",
    "i = 3\n",
    "fn_1 = 1\n",
    "fn_2 = 1\n",
    "n = int(input(\"Saisir le mois  pour calculer le nombre de couple de lapin\"))\n",
    "\n",
    "# si n vaut 1 ou 2, on affiche 1\n",
    "if n <=2:\n",
    "    print(f\" Le nombre de lapin au mois {n} est 1\")\n",
    "    exit()\n",
    "# fn = 1\n",
    "\n",
    "#Calcul de la boucle\n",
    "while (i<=n):\n",
    "    # on calcule la somme\n",
    "    fn = fn_1 + fn_2\n",
    "    # puis on décale les variables pour l'itération suivante\n",
    "    fn_2 = fn_1\n",
    "    fn_1 = fn\n",
    "    i = i + 1\n",
    "    \n",
    "#Affichage\n",
    "print(f\" Le nombre de lapin au mois {n} est {fn}\")  \n",
    "\n",
    "    \n",
    "\n"
   ]
  },
  {
   "cell_type": "code",
   "execution_count": null,
   "id": "supreme-building",
   "metadata": {},
   "outputs": [],
   "source": []
  },
  {
   "cell_type": "code",
   "execution_count": null,
   "id": "e8dd7405",
   "metadata": {},
   "outputs": [],
   "source": []
  }
 ],
 "metadata": {
  "kernelspec": {
   "display_name": "Python 3 (ipykernel)",
   "language": "python",
   "name": "python3"
  },
  "language_info": {
   "codemirror_mode": {
    "name": "ipython",
    "version": 3
   },
   "file_extension": ".py",
   "mimetype": "text/x-python",
   "name": "python",
   "nbconvert_exporter": "python",
   "pygments_lexer": "ipython3",
   "version": "3.10.12"
  }
 },
 "nbformat": 4,
 "nbformat_minor": 5
}
