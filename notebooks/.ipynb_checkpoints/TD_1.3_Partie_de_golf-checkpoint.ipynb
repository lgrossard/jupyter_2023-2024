{
 "cells": [
  {
   "cell_type": "markdown",
   "metadata": {},
   "source": [
    "# Ex 1.3 : une partie de golf\n",
    "\n",
    "L'objectif est ici d'écrire un petit jeu qui simule une partie de golf. L'ordinateur choisit la distance séparant le joueur du trou, et le but du jeu est d'envoyer la balle le plus près du trou. Pour cela, le joueur choisit l'angle et la vitesse initiaux de la balle. Le programme calcule alors la distance à laquelle la balle touche le sol à partir des équations régissant sa trajectoire. Afin de simplifier le problème, vous ferez quelques approximations :\n",
    "\n",
    "- les effets de la présence d'une atmosphère (frottements, vents…) ne sont pas pris en compte,\n",
    "- la balle ne rebondit pas et ne roule pas lorsqu'elle touche le sol."
   ]
  },
  {
   "cell_type": "markdown",
   "metadata": {},
   "source": [
    "<img style=\"float:center;width:800px;\" src=\"images/golf.png\">"
   ]
  },
  {
   "cell_type": "markdown",
   "metadata": {},
   "source": [
    "## Étude préliminaire\n",
    "\n",
    "Le système d'équations paramétriques décrivant la trajectoire de la balle s'écrit :\n",
    "\n",
    "$$\n",
    "x(t)  =  \\| \\vec{V} \\| \\cdot \\cos (\\alpha) \\cdot t \\\\\n",
    "y(t)  =  -\\dfrac{1}{2}gt^2 + \\| \\vec{V} \\| \\cdot \\sin (\\alpha) \\cdot t + y_0\n",
    "$$\n",
    "\n",
    "avec g=9.8 m.s⁻²"
   ]
  },
  {
   "cell_type": "markdown",
   "metadata": {},
   "source": [
    "## Programme de base\n",
    "\n",
    "Dans un premier temps, on pose $y_0 = 0~m$\n",
    "\n",
    "Écrivez le code du programme de base dont voici les différentes étapes :\n",
    "\n",
    "- définissez les différentes variables utilisées dans le programme\n",
    "- initialisez la variable `g`\n",
    "- demandez à l'utilisateur de saisir l'angle initial en degrés. Le programme placera la valeur saisie dans la variable `alpha_degres`\n",
    "- demandez ensuite la vitesse initiale de la balle en km/h. Le programme placera la valeur saisie dans la variable `v_kmh`\n",
    "- placez dans la variable `alpha_radians` l'angle initial en radians, calculé à partir de `alpha_degres`\n",
    "- de la même manière, placez dans la variable `v_ms` la vitesse initiale en m/s calculée à partir de `v_kmh`\n",
    "- initialisez alors les coefficients `a`, `b` et `c` du polynôme qui décrit la trajectoire de la balle suivant `y`\n",
    "- calculez le discriminant de ce polynôme et placez-le dans la variable `delta`\n",
    "- calculez `tvol` et `xmax`\n",
    "- affichez enfin `xmax` à l'écran, sans oublier son unité.\n"
   ]
  },
  {
   "cell_type": "code",
   "execution_count": 15,
   "metadata": {},
   "outputs": [
    {
     "name": "stdin",
     "output_type": "stream",
     "text": [
      "Donnez la valeur de l'angle en degré 30\n",
      "Donnez la vitesse initial de la balle en km/h 50\n"
     ]
    },
    {
     "name": "stdout",
     "output_type": "stream",
     "text": [
      "la valeur que parcourra la balle sera 17.046670362977896  mètres\n"
     ]
    }
   ],
   "source": [
    "# Variables\n",
    "#\n",
    "# g : réel, gravité en m/s2\n",
    "# alpha_degres : réel, angle initial en degrés\n",
    "# alpha_radian : réel, angle initial en radian\n",
    "# v_kmh : réel, vitesse initiale en km/h\n",
    "# v_ms : réel, vitesse initiale en m/s\n",
    "# a,b,c : réels, coefficient du polynome du second degrée\n",
    "# delta : réel, discriminant du polynome\n",
    "# tvol : réel, temps de vol en s\n",
    "# x max : réel, position de la balle lorsqu'elle touche le sol\n",
    "\n",
    "#Importation des fonction pi, etc...\n",
    "from math import pi, sqrt,sin,cos\n",
    "\n",
    "#Initialisation de la cst gravité\n",
    "g=9.8\n",
    "\n",
    "#\n",
    "alpha_degres=float(input(\"Donnez la valeur de l'angle en degré\"))\n",
    "v_kmh=float(input(\"Donnez la vitesse initial de la balle en km/h\"))\n",
    "\n",
    "#\n",
    "alpha_radian=alpha_degres/(180/pi)\n",
    "v_ms=v_kmh/3.6\n",
    "\n",
    "#\n",
    "a=-0.5*g\n",
    "b=v_ms*sin(alpha_radian)\n",
    "c=0\n",
    "delta=(b**2)-(4*a*c)\n",
    "\n",
    "#\n",
    "tvol=(-b-sqrt(delta))/(2*a)\n",
    "\n",
    "#\n",
    "xmax=v_ms*cos(alpha_radian)*tvol\n",
    "print(\"la valeur que parcourra la balle sera\",xmax,\" mètres\")\n"
   ]
  },
  {
   "cell_type": "code",
   "execution_count": null,
   "metadata": {},
   "outputs": [],
   "source": []
  }
 ],
 "metadata": {
  "kernelspec": {
   "display_name": "Python 3",
   "language": "python",
   "name": "python3"
  },
  "language_info": {
   "codemirror_mode": {
    "name": "ipython",
    "version": 3
   },
   "file_extension": ".py",
   "mimetype": "text/x-python",
   "name": "python",
   "nbconvert_exporter": "python",
   "pygments_lexer": "ipython3",
   "version": "3.8.10"
  }
 },
 "nbformat": 4,
 "nbformat_minor": 5
}
