{
 "cells": [
  {
   "cell_type": "markdown",
   "metadata": {},
   "source": [
    "#  Affectation de variables\n",
    "\n",
    "Quelles sont les valeurs des différentes variables à la fin des codes suivants.\n"
   ]
  },
  {
   "cell_type": "markdown",
   "metadata": {},
   "source": [
    "## Code 1\n",
    "\n",
    "```python\n",
    "# variables\n",
    "# a, b, c, d : entiers\n",
    "a = 1\n",
    "b = 3\n",
    "c = b - 2*a\n",
    "d = c + a\n",
    "a = d - b\n",
    "c = c + 2\n",
    "b = b - a\n",
    "a = b\n",
    "```"
   ]
  },
  {
   "cell_type": "markdown",
   "metadata": {},
   "source": [
    "*Évolution des valeurs des différentes variables :*"
   ]
  },
  {
   "cell_type": "markdown",
   "metadata": {},
   "source": [
    "| ligne | a   | b   | c   | d   |\n",
    "| ------| --- | --- | --- | --- |\n",
    "|   1   |   1  |   |  |    |\n",
    "|   2   |   1  |    3 |     |     |\n",
    "|   3   |    1 |    3 |    1 |     |\n",
    "|   4   |    1 |  3   |   1  |   2  |\n",
    "|   5   |     -1|  3   |   1  |    2 |\n",
    "|   6   |     -1|   3  |    3 |   2  |\n",
    "|   7   |   -1  |    4 |    3 |    2|\n",
    "|   8   |   4  |  4   |   3  |    2 |"
   ]
  },
  {
   "cell_type": "markdown",
   "metadata": {},
   "source": [
    "## Code 2"
   ]
  },
  {
   "cell_type": "markdown",
   "metadata": {},
   "source": [
    "```python\n",
    "# variables\n",
    "# a, b, c, d, nombres entiers\n",
    "a = 1\n",
    "b = 3\n",
    "c = a + b\n",
    "a = c + b\n",
    "b = d - c\n",
    "b = b - a\n",
    "```"
   ]
  },
  {
   "cell_type": "markdown",
   "metadata": {},
   "source": [
    "*Évolution des valeurs des différentes variables :*"
   ]
  },
  {
   "cell_type": "markdown",
   "metadata": {},
   "source": [
    "| ligne | a   | b   | c   | d   |\n",
    "| ------| --- | --- | --- | --- |\n",
    "|   1   |    1 |     |     |     |\n",
    "|   2   |   1  |   3  |     |     |\n",
    "|   3   |    1 |   3  |     4|     |\n",
    "|   4   |   7  |    3 |    4 |     |\n",
    "|   5   |     7|    ? |     4|     |\n",
    "|   6   |     |     |     |     |\n"
   ]
  },
  {
   "cell_type": "code",
   "execution_count": 5,
   "metadata": {},
   "outputs": [
    {
     "name": "stdout",
     "output_type": "stream",
     "text": [
      "1\n"
     ]
    },
    {
     "ename": "NameError",
     "evalue": "name 'c' is not defined",
     "output_type": "error",
     "traceback": [
      "\u001b[0;31m---------------------------------------------------------------------------\u001b[0m",
      "\u001b[0;31mNameError\u001b[0m                                 Traceback (most recent call last)",
      "\u001b[0;32m<ipython-input-5-35d305cfb569>\u001b[0m in \u001b[0;36m<module>\u001b[0;34m\u001b[0m\n\u001b[1;32m      2\u001b[0m \u001b[0mb\u001b[0m\u001b[0;34m=\u001b[0m\u001b[0;36m6\u001b[0m\u001b[0;34m\u001b[0m\u001b[0;34m\u001b[0m\u001b[0m\n\u001b[1;32m      3\u001b[0m \u001b[0mprint\u001b[0m\u001b[0;34m(\u001b[0m\u001b[0ma\u001b[0m\u001b[0;34m)\u001b[0m\u001b[0;34m\u001b[0m\u001b[0;34m\u001b[0m\u001b[0m\n\u001b[0;32m----> 4\u001b[0;31m \u001b[0ma\u001b[0m\u001b[0;34m+\u001b[0m\u001b[0mc\u001b[0m\u001b[0;34m\u001b[0m\u001b[0;34m\u001b[0m\u001b[0m\n\u001b[0m",
      "\u001b[0;31mNameError\u001b[0m: name 'c' is not defined"
     ]
    }
   ],
   "source": [
    "a=1\n",
    "b=6\n",
    "print(a)\n",
    "a+c\n"
   ]
  },
  {
   "cell_type": "code",
   "execution_count": null,
   "metadata": {},
   "outputs": [],
   "source": []
  }
 ],
 "metadata": {
  "kernelspec": {
   "display_name": "Python 3",
   "language": "python",
   "name": "python3"
  },
  "language_info": {
   "codemirror_mode": {
    "name": "ipython",
    "version": 3
   },
   "file_extension": ".py",
   "mimetype": "text/x-python",
   "name": "python",
   "nbconvert_exporter": "python",
   "pygments_lexer": "ipython3",
   "version": "3.8.10"
  }
 },
 "nbformat": 4,
 "nbformat_minor": 5
}
