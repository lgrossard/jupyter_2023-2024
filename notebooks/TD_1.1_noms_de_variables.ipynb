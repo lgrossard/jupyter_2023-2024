{
 "cells": [
  {
   "cell_type": "markdown",
   "id": "adjusted-helena",
   "metadata": {},
   "source": [
    "# Ex 1.1 : noms de variables\n",
    "\n",
    "\n",
    "Pour chaque variable dont on vous donne la description, choisissez le nom qui vous semble le\n",
    "mieux adapté, en notation chamelCase puis en snake_case.\n",
    "\n",
    "\n",
    "| Description de la variable             | camelCase               | snake_case              |\n",
    "|---                                     |---                      | ---                     |\n",
    "|une somme de tensions                   |                         |                         |\n",
    "|la période d’une fonction               |                         |                         |\n",
    "|la célérité de la lumière               |                         |                         |\n",
    "|un compteur                             |                         |                         |\n",
    "|la valeur moyenne d’une série de données|                         |                         |\n"
   ]
  },
  {
   "cell_type": "code",
   "execution_count": null,
   "id": "theoretical-oakland",
   "metadata": {},
   "outputs": [],
   "source": []
  }
 ],
 "metadata": {
  "kernelspec": {
   "display_name": "Python 3",
   "language": "python",
   "name": "python3"
  },
  "language_info": {
   "codemirror_mode": {
    "name": "ipython",
    "version": 3
   },
   "file_extension": ".py",
   "mimetype": "text/x-python",
   "name": "python",
   "nbconvert_exporter": "python",
   "pygments_lexer": "ipython3",
   "version": "3.9.5"
  }
 },
 "nbformat": 4,
 "nbformat_minor": 5
}
